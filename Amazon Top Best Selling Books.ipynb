{
 "cells": [
  {
   "cell_type": "code",
   "execution_count": null,
   "id": "898c4d64",
   "metadata": {},
   "outputs": [],
   "source": [
    "#Author: Katarina Law\n",
    "#Topic: Amazon Best Selling Books (2009 - 2022)\n",
    "#Date:"
   ]
  },
  {
   "cell_type": "markdown",
   "id": "4d8d38f0",
   "metadata": {},
   "source": [
    "# Importing File"
   ]
  },
  {
   "cell_type": "code",
   "execution_count": 1,
   "id": "5a293917",
   "metadata": {},
   "outputs": [],
   "source": [
    "import pandas as pd\n",
    "\n",
    "amazon_df = pd.read_csv(\"/Users/katarinalaw/Desktop/books_bestsellers.csv\")"
   ]
  },
  {
   "cell_type": "code",
   "execution_count": 2,
   "id": "49bf53ae",
   "metadata": {
    "scrolled": true
   },
   "outputs": [
    {
     "data": {
      "text/html": [
       "<div>\n",
       "<style scoped>\n",
       "    .dataframe tbody tr th:only-of-type {\n",
       "        vertical-align: middle;\n",
       "    }\n",
       "\n",
       "    .dataframe tbody tr th {\n",
       "        vertical-align: top;\n",
       "    }\n",
       "\n",
       "    .dataframe thead th {\n",
       "        text-align: right;\n",
       "    }\n",
       "</style>\n",
       "<table border=\"1\" class=\"dataframe\">\n",
       "  <thead>\n",
       "    <tr style=\"text-align: right;\">\n",
       "      <th></th>\n",
       "      <th>Name</th>\n",
       "      <th>Author</th>\n",
       "      <th>User Rating</th>\n",
       "      <th>Reviews</th>\n",
       "      <th>Price</th>\n",
       "      <th>Year</th>\n",
       "      <th>Genre</th>\n",
       "    </tr>\n",
       "  </thead>\n",
       "  <tbody>\n",
       "    <tr>\n",
       "      <th>0</th>\n",
       "      <td>Act Like a Lady, Think Like a Man: What Men Re...</td>\n",
       "      <td>Steve Harvey</td>\n",
       "      <td>4.6</td>\n",
       "      <td>5013</td>\n",
       "      <td>17</td>\n",
       "      <td>2009</td>\n",
       "      <td>Non Fiction</td>\n",
       "    </tr>\n",
       "    <tr>\n",
       "      <th>1</th>\n",
       "      <td>Arguing with Idiots: How to Stop Small Minds a...</td>\n",
       "      <td>Glenn Beck</td>\n",
       "      <td>4.6</td>\n",
       "      <td>798</td>\n",
       "      <td>5</td>\n",
       "      <td>2009</td>\n",
       "      <td>Non Fiction</td>\n",
       "    </tr>\n",
       "    <tr>\n",
       "      <th>2</th>\n",
       "      <td>Breaking Dawn (The Twilight Saga, Book 4)</td>\n",
       "      <td>Stephenie Meyer</td>\n",
       "      <td>4.6</td>\n",
       "      <td>9769</td>\n",
       "      <td>13</td>\n",
       "      <td>2009</td>\n",
       "      <td>Fiction</td>\n",
       "    </tr>\n",
       "    <tr>\n",
       "      <th>3</th>\n",
       "      <td>Crazy Love: Overwhelmed by a Relentless God</td>\n",
       "      <td>Francis Chan</td>\n",
       "      <td>4.7</td>\n",
       "      <td>1542</td>\n",
       "      <td>14</td>\n",
       "      <td>2009</td>\n",
       "      <td>Non Fiction</td>\n",
       "    </tr>\n",
       "    <tr>\n",
       "      <th>4</th>\n",
       "      <td>Dead And Gone: A Sookie Stackhouse Novel (Sook...</td>\n",
       "      <td>Charlaine Harris</td>\n",
       "      <td>4.6</td>\n",
       "      <td>1541</td>\n",
       "      <td>4</td>\n",
       "      <td>2009</td>\n",
       "      <td>Fiction</td>\n",
       "    </tr>\n",
       "    <tr>\n",
       "      <th>...</th>\n",
       "      <td>...</td>\n",
       "      <td>...</td>\n",
       "      <td>...</td>\n",
       "      <td>...</td>\n",
       "      <td>...</td>\n",
       "      <td>...</td>\n",
       "      <td>...</td>\n",
       "    </tr>\n",
       "    <tr>\n",
       "      <th>695</th>\n",
       "      <td>The Wonderful Things You Will Be</td>\n",
       "      <td>Emily Winfield Martin</td>\n",
       "      <td>4.9</td>\n",
       "      <td>20920</td>\n",
       "      <td>9</td>\n",
       "      <td>2022</td>\n",
       "      <td>Fiction</td>\n",
       "    </tr>\n",
       "    <tr>\n",
       "      <th>696</th>\n",
       "      <td>Ugly Love: A Novel</td>\n",
       "      <td>Colleen Hoover</td>\n",
       "      <td>4.7</td>\n",
       "      <td>33929</td>\n",
       "      <td>10</td>\n",
       "      <td>2022</td>\n",
       "      <td>Fiction</td>\n",
       "    </tr>\n",
       "    <tr>\n",
       "      <th>697</th>\n",
       "      <td>Verity</td>\n",
       "      <td>Colleen Hoover</td>\n",
       "      <td>4.6</td>\n",
       "      <td>71826</td>\n",
       "      <td>11</td>\n",
       "      <td>2022</td>\n",
       "      <td>Fiction</td>\n",
       "    </tr>\n",
       "    <tr>\n",
       "      <th>698</th>\n",
       "      <td>What to Expect When You're Expecting</td>\n",
       "      <td>Heidi Murkoff</td>\n",
       "      <td>4.8</td>\n",
       "      <td>27052</td>\n",
       "      <td>13</td>\n",
       "      <td>2022</td>\n",
       "      <td>Non Fiction</td>\n",
       "    </tr>\n",
       "    <tr>\n",
       "      <th>699</th>\n",
       "      <td>Where the Crawdads Sing</td>\n",
       "      <td>Delia Owens</td>\n",
       "      <td>4.8</td>\n",
       "      <td>208917</td>\n",
       "      <td>10</td>\n",
       "      <td>2022</td>\n",
       "      <td>Fiction</td>\n",
       "    </tr>\n",
       "  </tbody>\n",
       "</table>\n",
       "<p>700 rows × 7 columns</p>\n",
       "</div>"
      ],
      "text/plain": [
       "                                                  Name                 Author  \\\n",
       "0    Act Like a Lady, Think Like a Man: What Men Re...           Steve Harvey   \n",
       "1    Arguing with Idiots: How to Stop Small Minds a...             Glenn Beck   \n",
       "2            Breaking Dawn (The Twilight Saga, Book 4)        Stephenie Meyer   \n",
       "3          Crazy Love: Overwhelmed by a Relentless God           Francis Chan   \n",
       "4    Dead And Gone: A Sookie Stackhouse Novel (Sook...       Charlaine Harris   \n",
       "..                                                 ...                    ...   \n",
       "695                   The Wonderful Things You Will Be  Emily Winfield Martin   \n",
       "696                                 Ugly Love: A Novel         Colleen Hoover   \n",
       "697                                             Verity         Colleen Hoover   \n",
       "698               What to Expect When You're Expecting          Heidi Murkoff   \n",
       "699                            Where the Crawdads Sing            Delia Owens   \n",
       "\n",
       "     User Rating  Reviews  Price  Year        Genre  \n",
       "0            4.6     5013     17  2009  Non Fiction  \n",
       "1            4.6      798      5  2009  Non Fiction  \n",
       "2            4.6     9769     13  2009      Fiction  \n",
       "3            4.7     1542     14  2009  Non Fiction  \n",
       "4            4.6     1541      4  2009      Fiction  \n",
       "..           ...      ...    ...   ...          ...  \n",
       "695          4.9    20920      9  2022      Fiction  \n",
       "696          4.7    33929     10  2022      Fiction  \n",
       "697          4.6    71826     11  2022      Fiction  \n",
       "698          4.8    27052     13  2022  Non Fiction  \n",
       "699          4.8   208917     10  2022      Fiction  \n",
       "\n",
       "[700 rows x 7 columns]"
      ]
     },
     "execution_count": 2,
     "metadata": {},
     "output_type": "execute_result"
    }
   ],
   "source": [
    "amazon_df"
   ]
  },
  {
   "cell_type": "code",
   "execution_count": 3,
   "id": "922b2f88",
   "metadata": {},
   "outputs": [
    {
     "name": "stdout",
     "output_type": "stream",
     "text": [
      "<class 'pandas.core.frame.DataFrame'>\n",
      "RangeIndex: 700 entries, 0 to 699\n",
      "Data columns (total 7 columns):\n",
      " #   Column       Non-Null Count  Dtype  \n",
      "---  ------       --------------  -----  \n",
      " 0   Name         700 non-null    object \n",
      " 1   Author       700 non-null    object \n",
      " 2   User Rating  700 non-null    float64\n",
      " 3   Reviews      700 non-null    int64  \n",
      " 4   Price        700 non-null    int64  \n",
      " 5   Year         700 non-null    int64  \n",
      " 6   Genre        700 non-null    object \n",
      "dtypes: float64(1), int64(3), object(3)\n",
      "memory usage: 38.4+ KB\n"
     ]
    }
   ],
   "source": [
    "amazon_df.info()"
   ]
  },
  {
   "cell_type": "markdown",
   "id": "45b63217",
   "metadata": {},
   "source": [
    "# Data Cleaning"
   ]
  },
  {
   "cell_type": "code",
   "execution_count": 4,
   "id": "ef323d46",
   "metadata": {},
   "outputs": [
    {
     "data": {
      "text/plain": [
       "Name           False\n",
       "Author         False\n",
       "User Rating    False\n",
       "Reviews        False\n",
       "Price          False\n",
       "Year           False\n",
       "Genre          False\n",
       "dtype: bool"
      ]
     },
     "execution_count": 4,
     "metadata": {},
     "output_type": "execute_result"
    }
   ],
   "source": [
    "#checking to see if there is any null value\n",
    "amazon_df.isnull().any()"
   ]
  },
  {
   "cell_type": "code",
   "execution_count": 5,
   "id": "f78212c3",
   "metadata": {},
   "outputs": [
    {
     "data": {
      "text/plain": [
       "False"
      ]
     },
     "execution_count": 5,
     "metadata": {},
     "output_type": "execute_result"
    }
   ],
   "source": [
    "#checking to see if there is any duplicated rows\n",
    "amazon_df.duplicated().any()"
   ]
  },
  {
   "cell_type": "markdown",
   "id": "5e2c8267",
   "metadata": {},
   "source": [
    "# Exploratory Data Analysis "
   ]
  },
  {
   "cell_type": "code",
   "execution_count": 6,
   "id": "5efa3c7e",
   "metadata": {},
   "outputs": [],
   "source": [
    "#importing libraries for visualization\n",
    "import seaborn as sns\n",
    "import matplotlib.pyplot as plt"
   ]
  },
  {
   "cell_type": "code",
   "execution_count": 23,
   "id": "a5a2b52a",
   "metadata": {},
   "outputs": [
    {
     "data": {
      "text/plain": [
       "Publication Manual of the American Psychological Association, 6th Edition            10\n",
       "The Very Hungry Caterpillar                                                          10\n",
       "StrengthsFinder 2.0                                                                   9\n",
       "The Four Agreements: A Practical Guide to Personal Freedom (A Toltec Wisdom Book)     9\n",
       "The 5 Love Languages: The Secret to Love that Lasts                                   8\n",
       "Oh, the Places You'll Go!                                                             8\n",
       "The 7 Habits of Highly Effective People: Powerful Lessons in Personal Change          7\n",
       "How to Win Friends & Influence People                                                 7\n",
       "Jesus Calling: Enjoying Peace in His Presence (with Scripture References)             6\n",
       "The Wonderful Things You Will Be                                                      6\n",
       "Name: Name, dtype: int64"
      ]
     },
     "execution_count": 23,
     "metadata": {},
     "output_type": "execute_result"
    }
   ],
   "source": [
    "#top 10 most featured books over the years\n",
    "amazon_df.Name.value_counts().head(10)"
   ]
  },
  {
   "cell_type": "markdown",
   "id": "62dec9d9",
   "metadata": {},
   "source": [
    "Genre"
   ]
  },
  {
   "cell_type": "code",
   "execution_count": 7,
   "id": "84525684",
   "metadata": {},
   "outputs": [
    {
     "data": {
      "text/plain": [
       "Non Fiction    388\n",
       "Fiction        312\n",
       "Name: Genre, dtype: int64"
      ]
     },
     "execution_count": 7,
     "metadata": {},
     "output_type": "execute_result"
    }
   ],
   "source": [
    "#looking at the total count of each genre sold between 2009 to 2022\n",
    "amazon_df.Genre.value_counts()"
   ]
  },
  {
   "cell_type": "code",
   "execution_count": 8,
   "id": "5bad32ec",
   "metadata": {
    "scrolled": true
   },
   "outputs": [
    {
     "data": {
      "text/plain": [
       "<AxesSubplot:xlabel='Genre', ylabel='count'>"
      ]
     },
     "execution_count": 8,
     "metadata": {},
     "output_type": "execute_result"
    },
    {
     "data": {
      "image/png": "[encoded data removed]",
      "text/plain": [
       "<Figure size 432x288 with 1 Axes>"
      ]
     },
     "metadata": {
      "needs_background": "light"
     },
     "output_type": "display_data"
    }
   ],
   "source": [
    "#plotting a barchart to show the total count of each genre sold between 2009 to 2022\n",
    "sns.countplot(x = \"Genre\", data = amazon_df)"
   ]
  },
  {
   "cell_type": "markdown",
   "id": "c1c81ce3",
   "metadata": {},
   "source": [
    "Authors"
   ]
  },
  {
   "cell_type": "code",
   "execution_count": 10,
   "id": "e2b8d9eb",
   "metadata": {
    "scrolled": false
   },
   "outputs": [
    {
     "data": {
      "text/plain": [
       "Jeff Kinney                           14\n",
       "Gary Chapman                          14\n",
       "Suzanne Collins                       12\n",
       "American Psychological Association    11\n",
       "Rick Riordan                          11\n",
       "Dr. Seuss                             10\n",
       "Eric Carle                            10\n",
       "Dav Pilkey                             9\n",
       "Gallup                                 9\n",
       "Don Miguel Ruiz                        9\n",
       "Name: Author, dtype: int64"
      ]
     },
     "execution_count": 10,
     "metadata": {},
     "output_type": "execute_result"
    }
   ],
   "source": [
    "#looking at the total number of top 10 best selling unique book counts by authors between 2009 to 2022\n",
    "amazon_df.Author.value_counts().head(10)"
   ]
  },
  {
   "cell_type": "code",
   "execution_count": 22,
   "id": "a6b4f882",
   "metadata": {
    "scrolled": true
   },
   "outputs": [
    {
     "data": {
      "image/png": "[encoded data removed]",
      "text/plain": [
       "<Figure size 432x288 with 1 Axes>"
      ]
     },
     "metadata": {
      "needs_background": "light"
     },
     "output_type": "display_data"
    }
   ],
   "source": [
    "#plotting the barchart to show top 10 best selling unique book counts by authors between 2009 to 2022\n",
    "amazon_df[\"Author\"].value_counts().head(10).plot(kind = \"bar\", color = \"blue\")\n",
    "\n",
    "#adding title and axis names\n",
    "plt.title(\"Top 10 Best Selling Unique Book Counts by Authors\")\n",
    "plt.xlabel(\"Authors\")\n",
    "plt.ylabel(\"Count\")\n",
    "\n",
    "#showing graph\n",
    "plt.show()"
   ]
  },
  {
   "cell_type": "markdown",
   "id": "7ae1256b",
   "metadata": {},
   "source": [
    "User Rating"
   ]
  },
  {
   "cell_type": "code",
   "execution_count": 11,
   "id": "4126508e",
   "metadata": {},
   "outputs": [
    {
     "data": {
      "text/plain": [
       "4.9"
      ]
     },
     "execution_count": 11,
     "metadata": {},
     "output_type": "execute_result"
    }
   ],
   "source": [
    "#looking at the max rating\n",
    "amazon_df[\"User Rating\"].max()"
   ]
  },
  {
   "cell_type": "markdown",
   "id": "40ec286c",
   "metadata": {},
   "source": [
    "#looking at authors with ratings of 4.9\n",
    "author_ratings = amazon_df[amazon_df[\"User Rating\"] == 4.9].groupby(\"Author\")[\"User Rating\"].mean().reset_index()\n",
    "\n",
    "author_ratings"
   ]
  },
  {
   "cell_type": "markdown",
   "id": "9525db47",
   "metadata": {},
   "source": [
    "Reviews"
   ]
  },
  {
   "cell_type": "code",
   "execution_count": null,
   "id": "75399306",
   "metadata": {},
   "outputs": [],
   "source": [
    "#looking at the books with most reviews\n"
   ]
  },
  {
   "cell_type": "markdown",
   "id": "9d7f93ca",
   "metadata": {},
   "source": [
    "Fiction Books"
   ]
  },
  {
   "cell_type": "code",
   "execution_count": 25,
   "id": "831d203a",
   "metadata": {},
   "outputs": [],
   "source": [
    "fiction_books = amazon_df[amazon_df[\"Genre\"] == \"Fiction\"]"
   ]
  },
  {
   "cell_type": "code",
   "execution_count": 29,
   "id": "d7ae6d9d",
   "metadata": {},
   "outputs": [
    {
     "data": {
      "image/png": "[encoded data removed]",
      "text/plain": [
       "<Figure size 432x288 with 1 Axes>"
      ]
     },
     "metadata": {
      "needs_background": "light"
     },
     "output_type": "display_data"
    }
   ],
   "source": [
    "#looking at top 10 best selling book names for fiction books\n",
    "fiction_books.Name.value_counts().head(10).plot(kind = \"bar\", color = \"blue\")\n",
    "\n",
    "#adding title and axis names\n",
    "plt.title(\"Top 10 Best Selling Fiction Books\")\n",
    "\n",
    "#showing graph\n",
    "plt.show()"
   ]
  },
  {
   "cell_type": "code",
   "execution_count": 30,
   "id": "37debb2a",
   "metadata": {},
   "outputs": [
    {
     "data": {
      "image/png": "[encoded data removed]",
      "text/plain": [
       "<Figure size 432x288 with 1 Axes>"
      ]
     },
     "metadata": {
      "needs_background": "light"
     },
     "output_type": "display_data"
    }
   ],
   "source": [
    "#looking at the top 10 best selling authors for fiction books\n",
    "fiction_books.Author.value_counts().head(10).plot(kind = \"bar\", color = \"blue\")\n",
    "\n",
    "#adding title and axis names\n",
    "plt.title(\"Top 10 Best Selling Authors for Fiction Books\")\n",
    "\n",
    "#showing graph\n",
    "plt.show()"
   ]
  },
  {
   "cell_type": "code",
   "execution_count": 34,
   "id": "58b0c6de",
   "metadata": {},
   "outputs": [
    {
     "data": {
      "text/plain": [
       "10.663461538461538"
      ]
     },
     "execution_count": 34,
     "metadata": {},
     "output_type": "execute_result"
    }
   ],
   "source": [
    "#finding the average price for fiction books\n",
    "fiction_books[\"Price\"].mean()"
   ]
  },
  {
   "cell_type": "markdown",
   "id": "93ebccd7",
   "metadata": {},
   "source": [
    "Non-Fiction Books"
   ]
  },
  {
   "cell_type": "code",
   "execution_count": 31,
   "id": "0a760a68",
   "metadata": {},
   "outputs": [],
   "source": [
    "non_fiction_books = amazon_df[amazon_df[\"Genre\"] == \"Non Fiction\"]"
   ]
  },
  {
   "cell_type": "code",
   "execution_count": 32,
   "id": "83f3e822",
   "metadata": {},
   "outputs": [
    {
     "data": {
      "image/png": "[encoded data removed]",
      "text/plain": [
       "<Figure size 432x288 with 1 Axes>"
      ]
     },
     "metadata": {
      "needs_background": "light"
     },
     "output_type": "display_data"
    }
   ],
   "source": [
    "#looking at top 10 best selling book names for non-fiction books\n",
    "non_fiction_books.Name.value_counts().head(10).plot(kind = \"bar\", color = \"blue\")\n",
    "\n",
    "#adding title and axis names\n",
    "plt.title(\"Top 10 Best Selling Non-Fiction Books\")\n",
    "\n",
    "#showing graph\n",
    "plt.show()"
   ]
  },
  {
   "cell_type": "code",
   "execution_count": 33,
   "id": "96dc4bf2",
   "metadata": {},
   "outputs": [
    {
     "data": {
      "image/png": "[encoded data removed]",
      "text/plain": [
       "<Figure size 432x288 with 1 Axes>"
      ]
     },
     "metadata": {
      "needs_background": "light"
     },
     "output_type": "display_data"
    }
   ],
   "source": [
    "#looking at the top 10 best selling authors for non-fiction books\n",
    "non_fiction_books.Author.value_counts().head(10).plot(kind = \"bar\", color = \"blue\")\n",
    "\n",
    "#adding title and axis names\n",
    "plt.title(\"Top 10 Best Selling Authors for Non-Fiction Books\")\n",
    "\n",
    "#showing graph\n",
    "plt.show()"
   ]
  },
  {
   "cell_type": "code",
   "execution_count": 35,
   "id": "4bd29c19",
   "metadata": {},
   "outputs": [
    {
     "data": {
      "text/plain": [
       "14.337628865979381"
      ]
     },
     "execution_count": 35,
     "metadata": {},
     "output_type": "execute_result"
    }
   ],
   "source": [
    "#finding the average price for non-fiction books\n",
    "non_fiction_books[\"Price\"].mean()"
   ]
  },
  {
   "cell_type": "code",
   "execution_count": null,
   "id": "40c566bb",
   "metadata": {},
   "outputs": [],
   "source": []
  }
 ],
 "metadata": {
  "kernelspec": {
   "display_name": "Python 3",
   "language": "python",
   "name": "python3"
  },
  "language_info": {
   "codemirror_mode": {
    "name": "ipython",
    "version": 3
   },
   "file_extension": ".py",
   "mimetype": "text/x-python",
   "name": "python",
   "nbconvert_exporter": "python",
   "pygments_lexer": "ipython3",
   "version": "3.8.8"
  }
 },
 "nbformat": 4,
 "nbformat_minor": 5
}
