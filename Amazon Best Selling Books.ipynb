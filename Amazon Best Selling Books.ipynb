{
 "cells": [
  {
   "cell_type": "code",
   "execution_count": 1,
   "id": "58091989",
   "metadata": {},
   "outputs": [],
   "source": [
    "#Author: Katarina Law\n",
    "#Topic: Amazon Best Selling Books (2009 - 2022)"
   ]
  },
  {
   "cell_type": "markdown",
   "id": "4d9e1d70",
   "metadata": {},
   "source": [
    "# Importing File"
   ]
  },
  {
   "cell_type": "code",
   "execution_count": 2,
   "id": "b236f8f4",
   "metadata": {},
   "outputs": [],
   "source": [
    "import pandas as pd\n",
    "\n",
    "amazon_df = pd.read_csv(\"/Users/katarinalaw/Desktop/books_bestsellers.csv\")"
   ]
  },
  {
   "cell_type": "code",
   "execution_count": 3,
   "id": "e511ed50",
   "metadata": {
    "scrolled": true
   },
   "outputs": [
    {
     "data": {
      "text/html": [
       "<div>\n",
       "<style scoped>\n",
       "    .dataframe tbody tr th:only-of-type {\n",
       "        vertical-align: middle;\n",
       "    }\n",
       "\n",
       "    .dataframe tbody tr th {\n",
       "        vertical-align: top;\n",
       "    }\n",
       "\n",
       "    .dataframe thead th {\n",
       "        text-align: right;\n",
       "    }\n",
       "</style>\n",
       "<table border=\"1\" class=\"dataframe\">\n",
       "  <thead>\n",
       "    <tr style=\"text-align: right;\">\n",
       "      <th></th>\n",
       "      <th>Name</th>\n",
       "      <th>Author</th>\n",
       "      <th>User Rating</th>\n",
       "      <th>Reviews</th>\n",
       "      <th>Price</th>\n",
       "      <th>Year</th>\n",
       "      <th>Genre</th>\n",
       "    </tr>\n",
       "  </thead>\n",
       "  <tbody>\n",
       "    <tr>\n",
       "      <th>0</th>\n",
       "      <td>Act Like a Lady, Think Like a Man: What Men Re...</td>\n",
       "      <td>Steve Harvey</td>\n",
       "      <td>4.6</td>\n",
       "      <td>5013</td>\n",
       "      <td>17</td>\n",
       "      <td>2009</td>\n",
       "      <td>Non Fiction</td>\n",
       "    </tr>\n",
       "    <tr>\n",
       "      <th>1</th>\n",
       "      <td>Arguing with Idiots: How to Stop Small Minds a...</td>\n",
       "      <td>Glenn Beck</td>\n",
       "      <td>4.6</td>\n",
       "      <td>798</td>\n",
       "      <td>5</td>\n",
       "      <td>2009</td>\n",
       "      <td>Non Fiction</td>\n",
       "    </tr>\n",
       "    <tr>\n",
       "      <th>2</th>\n",
       "      <td>Breaking Dawn (The Twilight Saga, Book 4)</td>\n",
       "      <td>Stephenie Meyer</td>\n",
       "      <td>4.6</td>\n",
       "      <td>9769</td>\n",
       "      <td>13</td>\n",
       "      <td>2009</td>\n",
       "      <td>Fiction</td>\n",
       "    </tr>\n",
       "    <tr>\n",
       "      <th>3</th>\n",
       "      <td>Crazy Love: Overwhelmed by a Relentless God</td>\n",
       "      <td>Francis Chan</td>\n",
       "      <td>4.7</td>\n",
       "      <td>1542</td>\n",
       "      <td>14</td>\n",
       "      <td>2009</td>\n",
       "      <td>Non Fiction</td>\n",
       "    </tr>\n",
       "    <tr>\n",
       "      <th>4</th>\n",
       "      <td>Dead And Gone: A Sookie Stackhouse Novel (Sook...</td>\n",
       "      <td>Charlaine Harris</td>\n",
       "      <td>4.6</td>\n",
       "      <td>1541</td>\n",
       "      <td>4</td>\n",
       "      <td>2009</td>\n",
       "      <td>Fiction</td>\n",
       "    </tr>\n",
       "    <tr>\n",
       "      <th>...</th>\n",
       "      <td>...</td>\n",
       "      <td>...</td>\n",
       "      <td>...</td>\n",
       "      <td>...</td>\n",
       "      <td>...</td>\n",
       "      <td>...</td>\n",
       "      <td>...</td>\n",
       "    </tr>\n",
       "    <tr>\n",
       "      <th>695</th>\n",
       "      <td>The Wonderful Things You Will Be</td>\n",
       "      <td>Emily Winfield Martin</td>\n",
       "      <td>4.9</td>\n",
       "      <td>20920</td>\n",
       "      <td>9</td>\n",
       "      <td>2022</td>\n",
       "      <td>Fiction</td>\n",
       "    </tr>\n",
       "    <tr>\n",
       "      <th>696</th>\n",
       "      <td>Ugly Love: A Novel</td>\n",
       "      <td>Colleen Hoover</td>\n",
       "      <td>4.7</td>\n",
       "      <td>33929</td>\n",
       "      <td>10</td>\n",
       "      <td>2022</td>\n",
       "      <td>Fiction</td>\n",
       "    </tr>\n",
       "    <tr>\n",
       "      <th>697</th>\n",
       "      <td>Verity</td>\n",
       "      <td>Colleen Hoover</td>\n",
       "      <td>4.6</td>\n",
       "      <td>71826</td>\n",
       "      <td>11</td>\n",
       "      <td>2022</td>\n",
       "      <td>Fiction</td>\n",
       "    </tr>\n",
       "    <tr>\n",
       "      <th>698</th>\n",
       "      <td>What to Expect When You're Expecting</td>\n",
       "      <td>Heidi Murkoff</td>\n",
       "      <td>4.8</td>\n",
       "      <td>27052</td>\n",
       "      <td>13</td>\n",
       "      <td>2022</td>\n",
       "      <td>Non Fiction</td>\n",
       "    </tr>\n",
       "    <tr>\n",
       "      <th>699</th>\n",
       "      <td>Where the Crawdads Sing</td>\n",
       "      <td>Delia Owens</td>\n",
       "      <td>4.8</td>\n",
       "      <td>208917</td>\n",
       "      <td>10</td>\n",
       "      <td>2022</td>\n",
       "      <td>Fiction</td>\n",
       "    </tr>\n",
       "  </tbody>\n",
       "</table>\n",
       "<p>700 rows × 7 columns</p>\n",
       "</div>"
      ],
      "text/plain": [
       "                                                  Name                 Author  \\\n",
       "0    Act Like a Lady, Think Like a Man: What Men Re...           Steve Harvey   \n",
       "1    Arguing with Idiots: How to Stop Small Minds a...             Glenn Beck   \n",
       "2            Breaking Dawn (The Twilight Saga, Book 4)        Stephenie Meyer   \n",
       "3          Crazy Love: Overwhelmed by a Relentless God           Francis Chan   \n",
       "4    Dead And Gone: A Sookie Stackhouse Novel (Sook...       Charlaine Harris   \n",
       "..                                                 ...                    ...   \n",
       "695                   The Wonderful Things You Will Be  Emily Winfield Martin   \n",
       "696                                 Ugly Love: A Novel         Colleen Hoover   \n",
       "697                                             Verity         Colleen Hoover   \n",
       "698               What to Expect When You're Expecting          Heidi Murkoff   \n",
       "699                            Where the Crawdads Sing            Delia Owens   \n",
       "\n",
       "     User Rating  Reviews  Price  Year        Genre  \n",
       "0            4.6     5013     17  2009  Non Fiction  \n",
       "1            4.6      798      5  2009  Non Fiction  \n",
       "2            4.6     9769     13  2009      Fiction  \n",
       "3            4.7     1542     14  2009  Non Fiction  \n",
       "4            4.6     1541      4  2009      Fiction  \n",
       "..           ...      ...    ...   ...          ...  \n",
       "695          4.9    20920      9  2022      Fiction  \n",
       "696          4.7    33929     10  2022      Fiction  \n",
       "697          4.6    71826     11  2022      Fiction  \n",
       "698          4.8    27052     13  2022  Non Fiction  \n",
       "699          4.8   208917     10  2022      Fiction  \n",
       "\n",
       "[700 rows x 7 columns]"
      ]
     },
     "execution_count": 3,
     "metadata": {},
     "output_type": "execute_result"
    }
   ],
   "source": [
    "amazon_df"
   ]
  },
  {
   "cell_type": "code",
   "execution_count": 4,
   "id": "c198cea0",
   "metadata": {},
   "outputs": [
    {
     "name": "stdout",
     "output_type": "stream",
     "text": [
      "<class 'pandas.core.frame.DataFrame'>\n",
      "RangeIndex: 700 entries, 0 to 699\n",
      "Data columns (total 7 columns):\n",
      " #   Column       Non-Null Count  Dtype  \n",
      "---  ------       --------------  -----  \n",
      " 0   Name         700 non-null    object \n",
      " 1   Author       700 non-null    object \n",
      " 2   User Rating  700 non-null    float64\n",
      " 3   Reviews      700 non-null    int64  \n",
      " 4   Price        700 non-null    int64  \n",
      " 5   Year         700 non-null    int64  \n",
      " 6   Genre        700 non-null    object \n",
      "dtypes: float64(1), int64(3), object(3)\n",
      "memory usage: 38.4+ KB\n"
     ]
    }
   ],
   "source": [
    "amazon_df.info()"
   ]
  },
  {
   "cell_type": "markdown",
   "id": "fa60f80b",
   "metadata": {},
   "source": [
    "# Data Cleaning"
   ]
  },
  {
   "cell_type": "code",
   "execution_count": 5,
   "id": "16e9f499",
   "metadata": {},
   "outputs": [
    {
     "data": {
      "text/plain": [
       "Name           False\n",
       "Author         False\n",
       "User Rating    False\n",
       "Reviews        False\n",
       "Price          False\n",
       "Year           False\n",
       "Genre          False\n",
       "dtype: bool"
      ]
     },
     "execution_count": 5,
     "metadata": {},
     "output_type": "execute_result"
    }
   ],
   "source": [
    "#checking to see if there is any null value\n",
    "amazon_df.isnull().any()"
   ]
  },
  {
   "cell_type": "code",
   "execution_count": 6,
   "id": "e4ea2aeb",
   "metadata": {},
   "outputs": [
    {
     "data": {
      "text/plain": [
       "False"
      ]
     },
     "execution_count": 6,
     "metadata": {},
     "output_type": "execute_result"
    }
   ],
   "source": [
    "#checking to see if there is any duplicated rows\n",
    "amazon_df.duplicated().any()"
   ]
  },
  {
   "cell_type": "markdown",
   "id": "e9ca2835",
   "metadata": {},
   "source": [
    "# Exploratory Data Analysis "
   ]
  },
  {
   "cell_type": "code",
   "execution_count": 7,
   "id": "5374b675",
   "metadata": {},
   "outputs": [],
   "source": [
    "#importing libraries for visualization\n",
    "import seaborn as sns\n",
    "import matplotlib.pyplot as plt"
   ]
  },
  {
   "cell_type": "code",
   "execution_count": 8,
   "id": "6e38bd63",
   "metadata": {},
   "outputs": [
    {
     "data": {
      "text/plain": [
       "The Very Hungry Caterpillar                                                          10\n",
       "Publication Manual of the American Psychological Association, 6th Edition            10\n",
       "The Four Agreements: A Practical Guide to Personal Freedom (A Toltec Wisdom Book)     9\n",
       "StrengthsFinder 2.0                                                                   9\n",
       "Oh, the Places You'll Go!                                                             8\n",
       "The 5 Love Languages: The Secret to Love that Lasts                                   8\n",
       "The 7 Habits of Highly Effective People: Powerful Lessons in Personal Change          7\n",
       "How to Win Friends & Influence People                                                 7\n",
       "The Wonderful Things You Will Be                                                      6\n",
       "Giraffes Can't Dance                                                                  6\n",
       "Name: Name, dtype: int64"
      ]
     },
     "execution_count": 8,
     "metadata": {},
     "output_type": "execute_result"
    }
   ],
   "source": [
    "#top 10 most featured books over the years\n",
    "amazon_df.Name.value_counts().head(10)"
   ]
  },
  {
   "cell_type": "markdown",
   "id": "89a1bcc0",
   "metadata": {},
   "source": [
    "## Genre"
   ]
  },
  {
   "cell_type": "code",
   "execution_count": 9,
   "id": "e506fc40",
   "metadata": {},
   "outputs": [
    {
     "data": {
      "text/plain": [
       "Non Fiction    388\n",
       "Fiction        312\n",
       "Name: Genre, dtype: int64"
      ]
     },
     "execution_count": 9,
     "metadata": {},
     "output_type": "execute_result"
    }
   ],
   "source": [
    "#looking at the total count of each genre sold between 2009 to 2022\n",
    "amazon_df.Genre.value_counts()"
   ]
  },
  {
   "cell_type": "code",
   "execution_count": 10,
   "id": "50b490e0",
   "metadata": {
    "scrolled": true
   },
   "outputs": [
    {
     "data": {
      "text/plain": [
       "<AxesSubplot:xlabel='Genre', ylabel='count'>"
      ]
     },
     "execution_count": 10,
     "metadata": {},
     "output_type": "execute_result"
    },
    {
     "data": {
      "image/png": "[encoded data removed]",
      "text/plain": [
       "<Figure size 432x288 with 1 Axes>"
      ]
     },
     "metadata": {
      "needs_background": "light"
     },
     "output_type": "display_data"
    }
   ],
   "source": [
    "#plotting a barchart to show the total count of each genre sold between 2009 to 2022\n",
    "sns.countplot(x = \"Genre\", data = amazon_df)"
   ]
  },
  {
   "cell_type": "markdown",
   "id": "e66c5155",
   "metadata": {},
   "source": [
    "## Authors"
   ]
  },
  {
   "cell_type": "code",
   "execution_count": 11,
   "id": "1146a88c",
   "metadata": {
    "scrolled": false
   },
   "outputs": [
    {
     "data": {
      "text/plain": [
       "Gary Chapman                          14\n",
       "Jeff Kinney                           14\n",
       "Suzanne Collins                       12\n",
       "American Psychological Association    11\n",
       "Rick Riordan                          11\n",
       "Eric Carle                            10\n",
       "Dr. Seuss                             10\n",
       "Don Miguel Ruiz                        9\n",
       "Gallup                                 9\n",
       "Dav Pilkey                             9\n",
       "Name: Author, dtype: int64"
      ]
     },
     "execution_count": 11,
     "metadata": {},
     "output_type": "execute_result"
    }
   ],
   "source": [
    "#looking at the total number of top 10 best selling unique book counts by authors between 2009 to 2022\n",
    "amazon_df.Author.value_counts().head(10)"
   ]
  },
  {
   "cell_type": "code",
   "execution_count": 12,
   "id": "4896ed19",
   "metadata": {
    "scrolled": true
   },
   "outputs": [
    {
     "data": {
      "image/png": "[encoded data removed]",
      "text/plain": [
       "<Figure size 432x288 with 1 Axes>"
      ]
     },
     "metadata": {
      "needs_background": "light"
     },
     "output_type": "display_data"
    }
   ],
   "source": [
    "#plotting the barchart to show top 10 best selling unique book counts by authors between 2009 to 2022\n",
    "amazon_df[\"Author\"].value_counts().head(10).plot(kind = \"barh\", color = \"blue\")\n",
    "\n",
    "#adding title and axis names\n",
    "plt.title(\"Top 10 Best Selling Unique Book Counts by Authors\")\n",
    "plt.xlabel(\"Unique Book Count\")\n",
    "plt.ylabel(\"Authors\")\n",
    "\n",
    "#showing graph\n",
    "plt.show()"
   ]
  },
  {
   "cell_type": "markdown",
   "id": "0d0ff8d8",
   "metadata": {},
   "source": [
    "## User Rating"
   ]
  },
  {
   "cell_type": "code",
   "execution_count": 13,
   "id": "fc4da3d9",
   "metadata": {},
   "outputs": [
    {
     "data": {
      "text/plain": [
       "4.9"
      ]
     },
     "execution_count": 13,
     "metadata": {},
     "output_type": "execute_result"
    }
   ],
   "source": [
    "#looking at the max rating\n",
    "amazon_df[\"User Rating\"].max()"
   ]
  },
  {
   "cell_type": "code",
   "execution_count": 14,
   "id": "95a97c64",
   "metadata": {},
   "outputs": [
    {
     "data": {
      "text/html": [
       "<div>\n",
       "<style scoped>\n",
       "    .dataframe tbody tr th:only-of-type {\n",
       "        vertical-align: middle;\n",
       "    }\n",
       "\n",
       "    .dataframe tbody tr th {\n",
       "        vertical-align: top;\n",
       "    }\n",
       "\n",
       "    .dataframe thead th {\n",
       "        text-align: right;\n",
       "    }\n",
       "</style>\n",
       "<table border=\"1\" class=\"dataframe\">\n",
       "  <thead>\n",
       "    <tr style=\"text-align: right;\">\n",
       "      <th></th>\n",
       "      <th>Author</th>\n",
       "      <th>User Rating</th>\n",
       "    </tr>\n",
       "  </thead>\n",
       "  <tbody>\n",
       "    <tr>\n",
       "      <th>0</th>\n",
       "      <td>Alice Schertle</td>\n",
       "      <td>4.9</td>\n",
       "    </tr>\n",
       "    <tr>\n",
       "      <th>1</th>\n",
       "      <td>Amanda Gorman</td>\n",
       "      <td>4.9</td>\n",
       "    </tr>\n",
       "    <tr>\n",
       "      <th>2</th>\n",
       "      <td>Amelia Hepworth</td>\n",
       "      <td>4.9</td>\n",
       "    </tr>\n",
       "    <tr>\n",
       "      <th>3</th>\n",
       "      <td>Barack Obama</td>\n",
       "      <td>4.9</td>\n",
       "    </tr>\n",
       "    <tr>\n",
       "      <th>4</th>\n",
       "      <td>Bill Martin Jr.</td>\n",
       "      <td>4.9</td>\n",
       "    </tr>\n",
       "    <tr>\n",
       "      <th>5</th>\n",
       "      <td>Brandon Stanton</td>\n",
       "      <td>4.9</td>\n",
       "    </tr>\n",
       "    <tr>\n",
       "      <th>6</th>\n",
       "      <td>Chip Gaines</td>\n",
       "      <td>4.9</td>\n",
       "    </tr>\n",
       "    <tr>\n",
       "      <th>7</th>\n",
       "      <td>Dav Pilkey</td>\n",
       "      <td>4.9</td>\n",
       "    </tr>\n",
       "    <tr>\n",
       "      <th>8</th>\n",
       "      <td>Deborah Hopkinson</td>\n",
       "      <td>4.9</td>\n",
       "    </tr>\n",
       "    <tr>\n",
       "      <th>9</th>\n",
       "      <td>Dr. Seuss</td>\n",
       "      <td>4.9</td>\n",
       "    </tr>\n",
       "    <tr>\n",
       "      <th>10</th>\n",
       "      <td>Emily Winfield Martin</td>\n",
       "      <td>4.9</td>\n",
       "    </tr>\n",
       "    <tr>\n",
       "      <th>11</th>\n",
       "      <td>Eric Carle</td>\n",
       "      <td>4.9</td>\n",
       "    </tr>\n",
       "    <tr>\n",
       "      <th>12</th>\n",
       "      <td>J. K. Rowling</td>\n",
       "      <td>4.9</td>\n",
       "    </tr>\n",
       "    <tr>\n",
       "      <th>13</th>\n",
       "      <td>J.K. Rowling</td>\n",
       "      <td>4.9</td>\n",
       "    </tr>\n",
       "    <tr>\n",
       "      <th>14</th>\n",
       "      <td>Jeff Kinney</td>\n",
       "      <td>4.9</td>\n",
       "    </tr>\n",
       "    <tr>\n",
       "      <th>15</th>\n",
       "      <td>Jill Twiss</td>\n",
       "      <td>4.9</td>\n",
       "    </tr>\n",
       "    <tr>\n",
       "      <th>16</th>\n",
       "      <td>Joanna Gaines</td>\n",
       "      <td>4.9</td>\n",
       "    </tr>\n",
       "    <tr>\n",
       "      <th>17</th>\n",
       "      <td>Lin-Manuel Miranda</td>\n",
       "      <td>4.9</td>\n",
       "    </tr>\n",
       "    <tr>\n",
       "      <th>18</th>\n",
       "      <td>Mark R. Levin</td>\n",
       "      <td>4.9</td>\n",
       "    </tr>\n",
       "    <tr>\n",
       "      <th>19</th>\n",
       "      <td>Nathan W. Pyle</td>\n",
       "      <td>4.9</td>\n",
       "    </tr>\n",
       "    <tr>\n",
       "      <th>20</th>\n",
       "      <td>Patrick Thorpe</td>\n",
       "      <td>4.9</td>\n",
       "    </tr>\n",
       "    <tr>\n",
       "      <th>21</th>\n",
       "      <td>Pete Souza</td>\n",
       "      <td>4.9</td>\n",
       "    </tr>\n",
       "    <tr>\n",
       "      <th>22</th>\n",
       "      <td>Rush Limbaugh</td>\n",
       "      <td>4.9</td>\n",
       "    </tr>\n",
       "    <tr>\n",
       "      <th>23</th>\n",
       "      <td>Sarah Young</td>\n",
       "      <td>4.9</td>\n",
       "    </tr>\n",
       "    <tr>\n",
       "      <th>24</th>\n",
       "      <td>Sherri Duskey Rinker</td>\n",
       "      <td>4.9</td>\n",
       "    </tr>\n",
       "  </tbody>\n",
       "</table>\n",
       "</div>"
      ],
      "text/plain": [
       "                   Author  User Rating\n",
       "0          Alice Schertle          4.9\n",
       "1           Amanda Gorman          4.9\n",
       "2         Amelia Hepworth          4.9\n",
       "3            Barack Obama          4.9\n",
       "4         Bill Martin Jr.          4.9\n",
       "5         Brandon Stanton          4.9\n",
       "6             Chip Gaines          4.9\n",
       "7              Dav Pilkey          4.9\n",
       "8       Deborah Hopkinson          4.9\n",
       "9               Dr. Seuss          4.9\n",
       "10  Emily Winfield Martin          4.9\n",
       "11             Eric Carle          4.9\n",
       "12          J. K. Rowling          4.9\n",
       "13           J.K. Rowling          4.9\n",
       "14            Jeff Kinney          4.9\n",
       "15             Jill Twiss          4.9\n",
       "16          Joanna Gaines          4.9\n",
       "17     Lin-Manuel Miranda          4.9\n",
       "18          Mark R. Levin          4.9\n",
       "19         Nathan W. Pyle          4.9\n",
       "20         Patrick Thorpe          4.9\n",
       "21             Pete Souza          4.9\n",
       "22          Rush Limbaugh          4.9\n",
       "23            Sarah Young          4.9\n",
       "24   Sherri Duskey Rinker          4.9"
      ]
     },
     "execution_count": 14,
     "metadata": {},
     "output_type": "execute_result"
    }
   ],
   "source": [
    "#looking at authors with ratings of 4.9\n",
    "author_ratings = amazon_df[amazon_df[\"User Rating\"] == 4.9].groupby(\"Author\")[\"User Rating\"].mean().reset_index()\n",
    "\n",
    "author_ratings"
   ]
  },
  {
   "cell_type": "markdown",
   "id": "569feee4",
   "metadata": {},
   "source": [
    "## Reviews"
   ]
  },
  {
   "cell_type": "code",
   "execution_count": 15,
   "id": "6a65a2db",
   "metadata": {
    "scrolled": true
   },
   "outputs": [
    {
     "data": {
      "text/html": [
       "<div>\n",
       "<style scoped>\n",
       "    .dataframe tbody tr th:only-of-type {\n",
       "        vertical-align: middle;\n",
       "    }\n",
       "\n",
       "    .dataframe tbody tr th {\n",
       "        vertical-align: top;\n",
       "    }\n",
       "\n",
       "    .dataframe thead th {\n",
       "        text-align: right;\n",
       "    }\n",
       "</style>\n",
       "<table border=\"1\" class=\"dataframe\">\n",
       "  <thead>\n",
       "    <tr style=\"text-align: right;\">\n",
       "      <th></th>\n",
       "      <th>Reviews</th>\n",
       "    </tr>\n",
       "    <tr>\n",
       "      <th>Name</th>\n",
       "      <th></th>\n",
       "    </tr>\n",
       "  </thead>\n",
       "  <tbody>\n",
       "    <tr>\n",
       "      <th>Where the Crawdads Sing</th>\n",
       "      <td>168557.666667</td>\n",
       "    </tr>\n",
       "    <tr>\n",
       "      <th>The Midnight Library: A Novel</th>\n",
       "      <td>144313.500000</td>\n",
       "    </tr>\n",
       "    <tr>\n",
       "      <th>A Promised Land</th>\n",
       "      <td>121109.000000</td>\n",
       "    </tr>\n",
       "    <tr>\n",
       "      <th>Too Much and Never Enough: How My Family Created the World's Most Dangerous Man</th>\n",
       "      <td>100534.000000</td>\n",
       "    </tr>\n",
       "    <tr>\n",
       "      <th>The Four Winds: A Novel</th>\n",
       "      <td>96810.000000</td>\n",
       "    </tr>\n",
       "    <tr>\n",
       "      <th>The Boy, the Mole, the Fox and the Horse</th>\n",
       "      <td>93749.000000</td>\n",
       "    </tr>\n",
       "    <tr>\n",
       "      <th>The Vanishing Half: A Novel</th>\n",
       "      <td>83490.000000</td>\n",
       "    </tr>\n",
       "    <tr>\n",
       "      <th>Becoming</th>\n",
       "      <td>80344.333333</td>\n",
       "    </tr>\n",
       "    <tr>\n",
       "      <th>The Girl on the Train</th>\n",
       "      <td>79446.000000</td>\n",
       "    </tr>\n",
       "    <tr>\n",
       "      <th>Midnight Sun</th>\n",
       "      <td>79334.000000</td>\n",
       "    </tr>\n",
       "  </tbody>\n",
       "</table>\n",
       "</div>"
      ],
      "text/plain": [
       "                                                          Reviews\n",
       "Name                                                             \n",
       "Where the Crawdads Sing                             168557.666667\n",
       "The Midnight Library: A Novel                       144313.500000\n",
       "A Promised Land                                     121109.000000\n",
       "Too Much and Never Enough: How My Family Create...  100534.000000\n",
       "The Four Winds: A Novel                              96810.000000\n",
       "The Boy, the Mole, the Fox and the Horse             93749.000000\n",
       "The Vanishing Half: A Novel                          83490.000000\n",
       "Becoming                                             80344.333333\n",
       "The Girl on the Train                                79446.000000\n",
       "Midnight Sun                                         79334.000000"
      ]
     },
     "execution_count": 15,
     "metadata": {},
     "output_type": "execute_result"
    }
   ],
   "source": [
    "#looking at the books with most reviews\n",
    "book_reviews = pd.DataFrame(amazon_df.groupby(\"Name\")[\"Reviews\"].mean().sort_values(ascending = False).head(10))\n",
    "\n",
    "book_reviews"
   ]
  },
  {
   "cell_type": "code",
   "execution_count": 16,
   "id": "a2dd94cd",
   "metadata": {},
   "outputs": [
    {
     "data": {
      "image/png": "[encoded data removed]",
      "text/plain": [
       "<Figure size 432x288 with 1 Axes>"
      ]
     },
     "metadata": {
      "needs_background": "light"
     },
     "output_type": "display_data"
    }
   ],
   "source": [
    "#plotting bar chart to visualize books with most reviews\n",
    "book_reviews.plot(kind = \"barh\", color = \"blue\")\n",
    "\n",
    "#adding title and axis names\n",
    "plt.title(\"Books with Most Reviews\")\n",
    "plt.xlabel(\"No. of Reviews\")\n",
    "plt.ylabel(\"Book Name\")\n",
    "\n",
    "#showing graph\n",
    "plt.show()"
   ]
  },
  {
   "cell_type": "code",
   "execution_count": 17,
   "id": "5943820a",
   "metadata": {},
   "outputs": [
    {
     "data": {
      "text/html": [
       "<div>\n",
       "<style scoped>\n",
       "    .dataframe tbody tr th:only-of-type {\n",
       "        vertical-align: middle;\n",
       "    }\n",
       "\n",
       "    .dataframe tbody tr th {\n",
       "        vertical-align: top;\n",
       "    }\n",
       "\n",
       "    .dataframe thead th {\n",
       "        text-align: right;\n",
       "    }\n",
       "</style>\n",
       "<table border=\"1\" class=\"dataframe\">\n",
       "  <thead>\n",
       "    <tr style=\"text-align: right;\">\n",
       "      <th></th>\n",
       "      <th>Reviews</th>\n",
       "    </tr>\n",
       "    <tr>\n",
       "      <th>Author</th>\n",
       "      <th></th>\n",
       "    </tr>\n",
       "  </thead>\n",
       "  <tbody>\n",
       "    <tr>\n",
       "      <th>Delia Owens</th>\n",
       "      <td>168557.666667</td>\n",
       "    </tr>\n",
       "    <tr>\n",
       "      <th>Matt Haig</th>\n",
       "      <td>144313.500000</td>\n",
       "    </tr>\n",
       "    <tr>\n",
       "      <th>Barack Obama</th>\n",
       "      <td>121109.000000</td>\n",
       "    </tr>\n",
       "    <tr>\n",
       "      <th>Mary L. Trump Ph.D.</th>\n",
       "      <td>100534.000000</td>\n",
       "    </tr>\n",
       "    <tr>\n",
       "      <th>Charlie Mackesy</th>\n",
       "      <td>93749.000000</td>\n",
       "    </tr>\n",
       "    <tr>\n",
       "      <th>Brit Bennett</th>\n",
       "      <td>83490.000000</td>\n",
       "    </tr>\n",
       "    <tr>\n",
       "      <th>Michelle Obama</th>\n",
       "      <td>80344.333333</td>\n",
       "    </tr>\n",
       "    <tr>\n",
       "      <th>Paula Hawkins</th>\n",
       "      <td>79446.000000</td>\n",
       "    </tr>\n",
       "    <tr>\n",
       "      <th>Laura Dave</th>\n",
       "      <td>77903.000000</td>\n",
       "    </tr>\n",
       "    <tr>\n",
       "      <th>James Clear</th>\n",
       "      <td>73215.666667</td>\n",
       "    </tr>\n",
       "  </tbody>\n",
       "</table>\n",
       "</div>"
      ],
      "text/plain": [
       "                           Reviews\n",
       "Author                            \n",
       "Delia Owens          168557.666667\n",
       "Matt Haig            144313.500000\n",
       "Barack Obama         121109.000000\n",
       "Mary L. Trump Ph.D.  100534.000000\n",
       "Charlie Mackesy       93749.000000\n",
       "Brit Bennett          83490.000000\n",
       "Michelle Obama        80344.333333\n",
       "Paula Hawkins         79446.000000\n",
       "Laura Dave            77903.000000\n",
       "James Clear           73215.666667"
      ]
     },
     "execution_count": 17,
     "metadata": {},
     "output_type": "execute_result"
    }
   ],
   "source": [
    "#looking at the authors with most reviews\n",
    "author_reviews = pd.DataFrame(amazon_df.groupby(\"Author\")[\"Reviews\"].mean().sort_values(ascending = False).head(10))\n",
    "\n",
    "author_reviews\n"
   ]
  },
  {
   "cell_type": "code",
   "execution_count": 18,
   "id": "c058fdb3",
   "metadata": {
    "scrolled": true
   },
   "outputs": [
    {
     "data": {
      "image/png": "[encoded data removed]",
      "text/plain": [
       "<Figure size 432x288 with 1 Axes>"
      ]
     },
     "metadata": {
      "needs_background": "light"
     },
     "output_type": "display_data"
    }
   ],
   "source": [
    "#plotting bar chart to visualize authors with most reviews\n",
    "author_reviews.plot(kind = \"barh\", color = \"blue\")\n",
    "\n",
    "#adding title and axis names\n",
    "plt.title(\"Books with Most Reviews\")\n",
    "plt.xlabel(\"No. of Reviews\")\n",
    "plt.ylabel(\"Authors\")\n",
    "\n",
    "#showing graph\n",
    "plt.show()"
   ]
  },
  {
   "cell_type": "markdown",
   "id": "d1380d73",
   "metadata": {},
   "source": [
    "## Price"
   ]
  },
  {
   "cell_type": "code",
   "execution_count": 19,
   "id": "d1a0e497",
   "metadata": {},
   "outputs": [
    {
     "data": {
      "text/html": [
       "<div>\n",
       "<style scoped>\n",
       "    .dataframe tbody tr th:only-of-type {\n",
       "        vertical-align: middle;\n",
       "    }\n",
       "\n",
       "    .dataframe tbody tr th {\n",
       "        vertical-align: top;\n",
       "    }\n",
       "\n",
       "    .dataframe thead th {\n",
       "        text-align: right;\n",
       "    }\n",
       "</style>\n",
       "<table border=\"1\" class=\"dataframe\">\n",
       "  <thead>\n",
       "    <tr style=\"text-align: right;\">\n",
       "      <th></th>\n",
       "      <th>Price</th>\n",
       "    </tr>\n",
       "    <tr>\n",
       "      <th>Year</th>\n",
       "      <th></th>\n",
       "    </tr>\n",
       "  </thead>\n",
       "  <tbody>\n",
       "    <tr>\n",
       "      <th>2009</th>\n",
       "      <td>15.40</td>\n",
       "    </tr>\n",
       "    <tr>\n",
       "      <th>2010</th>\n",
       "      <td>13.48</td>\n",
       "    </tr>\n",
       "    <tr>\n",
       "      <th>2011</th>\n",
       "      <td>15.10</td>\n",
       "    </tr>\n",
       "    <tr>\n",
       "      <th>2012</th>\n",
       "      <td>15.30</td>\n",
       "    </tr>\n",
       "    <tr>\n",
       "      <th>2013</th>\n",
       "      <td>14.60</td>\n",
       "    </tr>\n",
       "    <tr>\n",
       "      <th>2014</th>\n",
       "      <td>14.64</td>\n",
       "    </tr>\n",
       "    <tr>\n",
       "      <th>2015</th>\n",
       "      <td>10.42</td>\n",
       "    </tr>\n",
       "    <tr>\n",
       "      <th>2016</th>\n",
       "      <td>13.18</td>\n",
       "    </tr>\n",
       "    <tr>\n",
       "      <th>2017</th>\n",
       "      <td>11.38</td>\n",
       "    </tr>\n",
       "    <tr>\n",
       "      <th>2018</th>\n",
       "      <td>10.52</td>\n",
       "    </tr>\n",
       "    <tr>\n",
       "      <th>2019</th>\n",
       "      <td>10.08</td>\n",
       "    </tr>\n",
       "    <tr>\n",
       "      <th>2020</th>\n",
       "      <td>10.46</td>\n",
       "    </tr>\n",
       "    <tr>\n",
       "      <th>2021</th>\n",
       "      <td>10.78</td>\n",
       "    </tr>\n",
       "    <tr>\n",
       "      <th>2022</th>\n",
       "      <td>12.46</td>\n",
       "    </tr>\n",
       "  </tbody>\n",
       "</table>\n",
       "</div>"
      ],
      "text/plain": [
       "      Price\n",
       "Year       \n",
       "2009  15.40\n",
       "2010  13.48\n",
       "2011  15.10\n",
       "2012  15.30\n",
       "2013  14.60\n",
       "2014  14.64\n",
       "2015  10.42\n",
       "2016  13.18\n",
       "2017  11.38\n",
       "2018  10.52\n",
       "2019  10.08\n",
       "2020  10.46\n",
       "2021  10.78\n",
       "2022  12.46"
      ]
     },
     "execution_count": 19,
     "metadata": {},
     "output_type": "execute_result"
    }
   ],
   "source": [
    "#looking at the average price of books each year\n",
    "avg_price = pd.DataFrame(amazon_df.groupby(\"Year\").Price.mean())\n",
    "\n",
    "avg_price"
   ]
  },
  {
   "cell_type": "code",
   "execution_count": 20,
   "id": "8b96a12e",
   "metadata": {
    "scrolled": true
   },
   "outputs": [
    {
     "data": {
      "image/png": "[encoded data removed]",
      "text/plain": [
       "<Figure size 432x288 with 1 Axes>"
      ]
     },
     "metadata": {
      "needs_background": "light"
     },
     "output_type": "display_data"
    }
   ],
   "source": [
    "#plotting bar chart to visualize the average price of books each year\n",
    "avg_price.plot(kind = \"bar\", color = \"blue\")\n",
    "\n",
    "#adding title and axis names\n",
    "plt.title(\"Average Price of Books by Year\")\n",
    "plt.xlabel(\"Year\")\n",
    "plt.ylabel(\"Average Price ($)\")\n",
    "\n",
    "#showing graph\n",
    "plt.show()"
   ]
  },
  {
   "cell_type": "code",
   "execution_count": 21,
   "id": "26ea803a",
   "metadata": {},
   "outputs": [
    {
     "data": {
      "text/html": [
       "<div>\n",
       "<style scoped>\n",
       "    .dataframe tbody tr th:only-of-type {\n",
       "        vertical-align: middle;\n",
       "    }\n",
       "\n",
       "    .dataframe tbody tr th {\n",
       "        vertical-align: top;\n",
       "    }\n",
       "\n",
       "    .dataframe thead th {\n",
       "        text-align: right;\n",
       "    }\n",
       "</style>\n",
       "<table border=\"1\" class=\"dataframe\">\n",
       "  <thead>\n",
       "    <tr style=\"text-align: right;\">\n",
       "      <th></th>\n",
       "      <th>Price</th>\n",
       "    </tr>\n",
       "    <tr>\n",
       "      <th>Author</th>\n",
       "      <th></th>\n",
       "    </tr>\n",
       "  </thead>\n",
       "  <tbody>\n",
       "    <tr>\n",
       "      <th>American Psychiatric Association</th>\n",
       "      <td>105.000000</td>\n",
       "    </tr>\n",
       "    <tr>\n",
       "      <th>Lin-Manuel Miranda</th>\n",
       "      <td>54.000000</td>\n",
       "    </tr>\n",
       "    <tr>\n",
       "      <th>Bill Simmons</th>\n",
       "      <td>53.000000</td>\n",
       "    </tr>\n",
       "    <tr>\n",
       "      <th>American Psychological Association</th>\n",
       "      <td>43.727273</td>\n",
       "    </tr>\n",
       "    <tr>\n",
       "      <th>Alan Moore</th>\n",
       "      <td>42.000000</td>\n",
       "    </tr>\n",
       "    <tr>\n",
       "      <th>The College Board</th>\n",
       "      <td>39.333333</td>\n",
       "    </tr>\n",
       "    <tr>\n",
       "      <th>J. K. Rowling</th>\n",
       "      <td>35.000000</td>\n",
       "    </tr>\n",
       "    <tr>\n",
       "      <th>Jaycee Dugard</th>\n",
       "      <td>32.000000</td>\n",
       "    </tr>\n",
       "    <tr>\n",
       "      <th>Thomas Piketty</th>\n",
       "      <td>28.000000</td>\n",
       "    </tr>\n",
       "    <tr>\n",
       "      <th>Wizards RPG Team</th>\n",
       "      <td>27.000000</td>\n",
       "    </tr>\n",
       "  </tbody>\n",
       "</table>\n",
       "</div>"
      ],
      "text/plain": [
       "                                         Price\n",
       "Author                                        \n",
       "American Psychiatric Association    105.000000\n",
       "Lin-Manuel Miranda                   54.000000\n",
       "Bill Simmons                         53.000000\n",
       "American Psychological Association   43.727273\n",
       "Alan Moore                           42.000000\n",
       "The College Board                    39.333333\n",
       "J. K. Rowling                        35.000000\n",
       "Jaycee Dugard                        32.000000\n",
       "Thomas Piketty                       28.000000\n",
       "Wizards RPG Team                     27.000000"
      ]
     },
     "execution_count": 21,
     "metadata": {},
     "output_type": "execute_result"
    }
   ],
   "source": [
    "#looking at the average book price for different author\n",
    "author_price = pd.DataFrame(amazon_df.groupby(\"Author\")[\"Price\"].mean().sort_values(ascending = False).head(10))\n",
    "\n",
    "author_price"
   ]
  },
  {
   "cell_type": "code",
   "execution_count": 22,
   "id": "8a3bdaa2",
   "metadata": {},
   "outputs": [
    {
     "data": {
      "image/png": "[encoded data removed]",
      "text/plain": [
       "<Figure size 432x288 with 1 Axes>"
      ]
     },
     "metadata": {
      "needs_background": "light"
     },
     "output_type": "display_data"
    }
   ],
   "source": [
    "#plotting bar chart to visualize the average book price for different author\n",
    "author_price.plot(kind = \"barh\", color = \"blue\")\n",
    "\n",
    "#adding title and axis names\n",
    "plt.title(\"Average Book Price by Author\")\n",
    "plt.xlabel(\"Average Price ($)\")\n",
    "plt.ylabel(\"Author\")\n",
    "\n",
    "#showing graph\n",
    "plt.show()"
   ]
  },
  {
   "cell_type": "markdown",
   "id": "451815bd",
   "metadata": {},
   "source": [
    "## Looking at Different Genre"
   ]
  },
  {
   "cell_type": "markdown",
   "id": "a445a4a5",
   "metadata": {},
   "source": [
    "### Fiction Books"
   ]
  },
  {
   "cell_type": "code",
   "execution_count": 23,
   "id": "dda3f0bd",
   "metadata": {},
   "outputs": [],
   "source": [
    "fiction_books = amazon_df[amazon_df[\"Genre\"] == \"Fiction\"]"
   ]
  },
  {
   "cell_type": "code",
   "execution_count": 24,
   "id": "7d182986",
   "metadata": {},
   "outputs": [
    {
     "data": {
      "image/png": "[encoded data removed]",
      "text/plain": [
       "<Figure size 432x288 with 1 Axes>"
      ]
     },
     "metadata": {
      "needs_background": "light"
     },
     "output_type": "display_data"
    }
   ],
   "source": [
    "#looking at top 10 best selling book names for fiction books\n",
    "fiction_books.Name.value_counts().head(10).plot(kind = \"barh\", color = \"blue\")\n",
    "\n",
    "#adding title and axis names\n",
    "plt.title(\"Top 10 Best Selling Fiction Books\")\n",
    "\n",
    "#showing graph\n",
    "plt.show()"
   ]
  },
  {
   "cell_type": "code",
   "execution_count": 25,
   "id": "9e62b096",
   "metadata": {},
   "outputs": [
    {
     "data": {
      "image/png": "[encoded data removed]",
      "text/plain": [
       "<Figure size 432x288 with 1 Axes>"
      ]
     },
     "metadata": {
      "needs_background": "light"
     },
     "output_type": "display_data"
    }
   ],
   "source": [
    "#looking at the top 10 best selling authors for fiction books\n",
    "fiction_books.Author.value_counts().head(10).plot(kind = \"barh\", color = \"blue\")\n",
    "\n",
    "#adding title and axis names\n",
    "plt.title(\"Top 10 Best Selling Authors for Fiction Books\")\n",
    "\n",
    "#showing graph\n",
    "plt.show()"
   ]
  },
  {
   "cell_type": "code",
   "execution_count": 26,
   "id": "1748eb62",
   "metadata": {},
   "outputs": [
    {
     "data": {
      "text/plain": [
       "10.663461538461538"
      ]
     },
     "execution_count": 26,
     "metadata": {},
     "output_type": "execute_result"
    }
   ],
   "source": [
    "#finding the average price for fiction books\n",
    "fiction_books[\"Price\"].mean()"
   ]
  },
  {
   "cell_type": "markdown",
   "id": "0d98c4f8",
   "metadata": {},
   "source": [
    "### Non-Fiction Books"
   ]
  },
  {
   "cell_type": "code",
   "execution_count": 27,
   "id": "6d0eeb45",
   "metadata": {},
   "outputs": [],
   "source": [
    "non_fiction_books = amazon_df[amazon_df[\"Genre\"] == \"Non Fiction\"]"
   ]
  },
  {
   "cell_type": "code",
   "execution_count": 28,
   "id": "29402257",
   "metadata": {},
   "outputs": [
    {
     "data": {
      "image/png": "[encoded data removed]",
      "text/plain": [
       "<Figure size 432x288 with 1 Axes>"
      ]
     },
     "metadata": {
      "needs_background": "light"
     },
     "output_type": "display_data"
    }
   ],
   "source": [
    "#looking at top 10 best selling book names for non-fiction books\n",
    "non_fiction_books.Name.value_counts().head(10).plot(kind = \"barh\", color = \"blue\")\n",
    "\n",
    "#adding title and axis names\n",
    "plt.title(\"Top 10 Best Selling Non-Fiction Books\")\n",
    "\n",
    "#showing graph\n",
    "plt.show()"
   ]
  },
  {
   "cell_type": "code",
   "execution_count": 29,
   "id": "5854f7d3",
   "metadata": {},
   "outputs": [
    {
     "data": {
      "image/png": "[encoded data removed]",
      "text/plain": [
       "<Figure size 432x288 with 1 Axes>"
      ]
     },
     "metadata": {
      "needs_background": "light"
     },
     "output_type": "display_data"
    }
   ],
   "source": [
    "#looking at the top 10 best selling authors for non-fiction books\n",
    "non_fiction_books.Author.value_counts().head(10).plot(kind = \"barh\", color = \"blue\")\n",
    "\n",
    "#adding title and axis names\n",
    "plt.title(\"Top 10 Best Selling Authors for Non-Fiction Books\")\n",
    "\n",
    "#showing graph\n",
    "plt.show()"
   ]
  },
  {
   "cell_type": "code",
   "execution_count": 30,
   "id": "70e98182",
   "metadata": {},
   "outputs": [
    {
     "data": {
      "text/plain": [
       "14.337628865979381"
      ]
     },
     "execution_count": 30,
     "metadata": {},
     "output_type": "execute_result"
    }
   ],
   "source": [
    "#finding the average price for non-fiction books\n",
    "non_fiction_books[\"Price\"].mean()"
   ]
  },
  {
   "cell_type": "code",
   "execution_count": null,
   "id": "fe52ac86",
   "metadata": {},
   "outputs": [],
   "source": []
  }
 ],
 "metadata": {
  "kernelspec": {
   "display_name": "Python 3",
   "language": "python",
   "name": "python3"
  },
  "language_info": {
   "codemirror_mode": {
    "name": "ipython",
    "version": 3
   },
   "file_extension": ".py",
   "mimetype": "text/x-python",
   "name": "python",
   "nbconvert_exporter": "python",
   "pygments_lexer": "ipython3",
   "version": "3.8.8"
  }
 },
 "nbformat": 4,
 "nbformat_minor": 5
}
